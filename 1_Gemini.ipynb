{
  "nbformat": 4,
  "nbformat_minor": 0,
  "metadata": {
    "colab": {
      "provenance": [],
      "authorship_tag": "ABX9TyNBU6iW5+460eouIHldn0Jg",
      "include_colab_link": true
    },
    "kernelspec": {
      "name": "python3",
      "display_name": "Python 3"
    },
    "language_info": {
      "name": "python"
    }
  },
  "cells": [
    {
      "cell_type": "markdown",
      "metadata": {
        "id": "view-in-github",
        "colab_type": "text"
      },
      "source": [
        "<a href=\"https://colab.research.google.com/github/MUmairAB/AWS-ML-Model-Deployment-with-REST-API/blob/main/1_Gemini.ipynb\" target=\"_parent\"><img src=\"https://colab.research.google.com/assets/colab-badge.svg\" alt=\"Open In Colab\"/></a>"
      ]
    },
    {
      "cell_type": "markdown",
      "source": [
        "# Gemini"
      ],
      "metadata": {
        "id": "uMQaF7rDcbKW"
      }
    },
    {
      "cell_type": "markdown",
      "source": [
        "## 1. Install the SDK\n",
        "\n",
        "The Python SDK for the Gemini API is contained in the google-generativeai package. Install the dependency using pip:"
      ],
      "metadata": {
        "id": "cYFMaxvvKtph"
      }
    },
    {
      "cell_type": "code",
      "execution_count": 1,
      "metadata": {
        "colab": {
          "base_uri": "https://localhost:8080/"
        },
        "id": "_9MaWdWnIL36",
        "outputId": "c98d0d03-38f5-4a68-f39b-8480064ccead"
      },
      "outputs": [
        {
          "output_type": "stream",
          "name": "stdout",
          "text": [
            "\u001b[2K     \u001b[90m━━━━━━━━━━━━━━━━━━━━━━━━━━━━━━━━━━━━━━━━\u001b[0m \u001b[32m142.2/142.2 kB\u001b[0m \u001b[31m2.6 MB/s\u001b[0m eta \u001b[36m0:00:00\u001b[0m\n",
            "\u001b[2K     \u001b[90m━━━━━━━━━━━━━━━━━━━━━━━━━━━━━━━━━━━━━━━━\u001b[0m \u001b[32m664.5/664.5 kB\u001b[0m \u001b[31m13.4 MB/s\u001b[0m eta \u001b[36m0:00:00\u001b[0m\n",
            "\u001b[?25h"
          ]
        }
      ],
      "source": [
        "!pip install -q -U google-generativeai"
      ]
    },
    {
      "cell_type": "markdown",
      "source": [
        "## 2. Initialize the Generative Model\n",
        "\n",
        "To use the model, we need the API key. If you run the code on local machine, make it an environment variable by using:\n",
        "```\n",
        "export API_KEY=<YOUR_API_KEY>\n",
        "\n",
        "```\n",
        "\n",
        " But if you are running the code on Colab Notebook or need to save the code on GitHub, then save the API key in environment file and upload the file to Colab or in your production environment. Furthermore, in Colab you can also employ the secrets manager under the \"🔑\".\n",
        "\n",
        "Here, we have uploaded the API key as an environment file **(.env)** And to handle that, we need dotenv library."
      ],
      "metadata": {
        "id": "HZhYAJqGLKRa"
      }
    },
    {
      "cell_type": "code",
      "source": [
        "#Install dotenv library\n",
        "!pip install -q python-dotenv"
      ],
      "metadata": {
        "id": "dhalT1EDLAvD"
      },
      "execution_count": 2,
      "outputs": []
    },
    {
      "cell_type": "code",
      "source": [
        "import dotenv, os\n",
        "\n",
        "#Parse a .env file and then load all the variables found as environment variables\n",
        "dotenv.load_dotenv()\n",
        "#Get the API key\n",
        "api_key = os.environ.get('GOOGLE_API_KEY')"
      ],
      "metadata": {
        "id": "3RvLi_D6OPV5"
      },
      "execution_count": 3,
      "outputs": []
    },
    {
      "cell_type": "code",
      "source": [
        "#Load the google-generativeai package\n",
        "import google.generativeai as genai"
      ],
      "metadata": {
        "id": "MMRzBJYGOa0n"
      },
      "execution_count": 4,
      "outputs": []
    },
    {
      "cell_type": "code",
      "source": [
        "#Configure the genai using the API key\n",
        "genai.configure(api_key=api_key)\n",
        "#Instantiate the desired model\n",
        "model = genai.GenerativeModel('gemini-pro')"
      ],
      "metadata": {
        "id": "SY0wq6uOOUbp"
      },
      "execution_count": 5,
      "outputs": []
    },
    {
      "cell_type": "code",
      "source": [
        "response = model.generate_content(\"Write an article on the threats of deepfakes.\")\n",
        "print(response.text)"
      ],
      "metadata": {
        "colab": {
          "base_uri": "https://localhost:8080/",
          "height": 678
        },
        "id": "Rknm6M0wNzwt",
        "outputId": "aa2f94b4-9e88-457f-9a44-62bd4dde81a3"
      },
      "execution_count": 7,
      "outputs": [
        {
          "output_type": "stream",
          "name": "stdout",
          "text": [
            "**Deepfakes: The Alarming Threats Posed by Synthetic Media**\n",
            "\n",
            "In the realm of artificial intelligence (AI), deepfake technology has emerged as a revolutionary force, capable of manipulating media and creating realistic fake videos. While this technology holds immense potential, it also presents a range of serious threats that demand our attention.\n",
            "\n",
            "**1. Misinformation and Propaganda:**\n",
            "\n",
            "Deepfakes can be used to spread false information and manipulate public opinion. Malicious actors can create deepfake videos of politicians, celebrities, or other influential figures saying or doing things they never actually did. This can damage reputations, undermine trust in institutions, and influence electoral outcomes.\n",
            "\n",
            "**2. Identity Theft and Harassment:**\n",
            "\n",
            "Deepfakes can be used to impersonate individuals, potentially leading to identity theft, financial fraud, and other crimes. They can also be used to create non-consensual pornographic content or harass victims by creating fake videos that appear real.\n",
            "\n",
            "**3. Erosion of Public Trust:**\n",
            "\n",
            "As deepfake technology becomes more sophisticated, it may become increasingly difficult for people to trust the authenticity of videos they see online. This could lead to widespread skepticism and distrust, undermining the credibility of media sources and public institutions.\n",
            "\n",
            "**4. Potential for Violence and Extremism:**\n",
            "\n",
            "Deepfakes can be used to incite violence and promote extremism. For example, they could be used to create deepfake videos of leaders calling for violence or spreading hateful propaganda. This could have devastating consequences for society.\n",
            "\n",
            "**5. Threats to National Security:**\n",
            "\n",
            "Deepfakes can be used to deceive intelligence agencies and create false narratives that could influence foreign policy decisions. They could also be used to manipulate public opinion during wartime or other national emergencies.\n",
            "\n",
            "**Mitigating the Threats:**\n",
            "\n",
            "Addressing the threats posed by deepfakes requires a multi-faceted approach:\n",
            "\n",
            "* **Education and Awareness:** Educating the public about deepfake technology is crucial to help them identify and combat misinformation.\n",
            "* **Technical Countermeasures:** Developing technical tools to detect and remove deepfakes is essential. This includes digital watermarking, deepfake detection algorithms, and other technologies.\n",
            "* **Legal Framework:** Establishing legal frameworks to regulate deepfakes and hold perpetrators accountable is necessary to deter misuse and protect victims.\n",
            "* **International Cooperation:** Collaboration among countries is essential to address the global threat posed by deepfakes. Information sharing, standards development, and law enforcement cooperation are all vital.\n",
            "\n",
            "**Conclusion:**\n",
            "\n",
            "Deepfake technology has the potential to revolutionize media and entertainment, but it also poses significant threats to society. Misinformation, identity theft, and erosion of public trust are just a few of the dangers we face. By educating the public, developing technical countermeasures, establishing legal frameworks, and fostering international cooperation, we can mitigate these threats and ensure that deepfakes are used responsibly and for good.\n"
          ]
        }
      ]
    },
    {
      "cell_type": "markdown",
      "source": [
        "## 3. Check the Available Models\n",
        "\n",
        "We can use **list_models** to see the available Gemini models.\n",
        "- **gemini-pro**: optimized for text-only prompts.\n",
        "- **gemini-pro-vision**: optimized for text-and-images prompts."
      ],
      "metadata": {
        "id": "vDvyFqHabrt0"
      }
    },
    {
      "cell_type": "code",
      "source": [
        "for m in genai.list_models():\n",
        "  if 'generateContent' in m.supported_generation_methods:\n",
        "    print(m.name)"
      ],
      "metadata": {
        "colab": {
          "base_uri": "https://localhost:8080/",
          "height": 142
        },
        "id": "R2mYcDBJPZWr",
        "outputId": "5e5dd73a-1e77-4aaf-f833-4e1597187567"
      },
      "execution_count": 8,
      "outputs": [
        {
          "output_type": "stream",
          "name": "stdout",
          "text": [
            "models/gemini-1.0-pro\n",
            "models/gemini-1.0-pro-001\n",
            "models/gemini-1.0-pro-latest\n",
            "models/gemini-1.0-pro-vision-latest\n",
            "models/gemini-1.5-pro-latest\n",
            "models/gemini-pro\n",
            "models/gemini-pro-vision\n"
          ]
        }
      ]
    }
  ]
}